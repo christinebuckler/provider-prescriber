{
 "cells": [
  {
   "cell_type": "markdown",
   "metadata": {},
   "source": [
    "# Spark Test"
   ]
  },
  {
   "cell_type": "code",
   "execution_count": 3,
   "metadata": {
    "collapsed": true
   },
   "outputs": [],
   "source": [
    "#Checking if Spark Context is running\n",
    "# sc"
   ]
  },
  {
   "cell_type": "code",
   "execution_count": 4,
   "metadata": {
    "collapsed": true
   },
   "outputs": [],
   "source": [
    "#Checking if SQL Context is running\n",
    "# sqlCtx"
   ]
  },
  {
   "cell_type": "markdown",
   "metadata": {},
   "source": [
    "### Load into RDD"
   ]
  },
  {
   "cell_type": "code",
   "execution_count": 1,
   "metadata": {
    "collapsed": true
   },
   "outputs": [],
   "source": [
    "# link = 's3n://{}:{}@gschoolcapstone/npidata_20050523-20170813.csv'.format(ACCESS_KEY, SECRET_KEY)\n",
    "link = 's3n://gschoolcapstone/npidata_20050523-20170813.csv'"
   ]
  },
  {
   "cell_type": "code",
   "execution_count": 1,
   "metadata": {},
   "outputs": [
    {
     "data": {
      "text/plain": [
       "my_rdd MapPartitionsRDD[1] at textFile at NativeMethodAccessorImpl.java:0"
      ]
     },
     "execution_count": 1,
     "metadata": {},
     "output_type": "execute_result"
    }
   ],
   "source": [
    "rdd = sc.textFile(link)\n",
    "rdd.setName(\"my_rdd\").cache()\n",
    "# rdd.count()"
   ]
  },
  {
   "cell_type": "code",
   "execution_count": 2,
   "metadata": {},
   "outputs": [
    {
     "data": {
      "text/plain": [
       "pyspark.rdd.RDD"
      ]
     },
     "execution_count": 2,
     "metadata": {},
     "output_type": "execute_result"
    }
   ],
   "source": [
    "type(rdd)"
   ]
  },
  {
   "cell_type": "markdown",
   "metadata": {},
   "source": [
    "### The sample Transformation\n",
    "\n",
    "The sample transformation takes up to three parameters. First is wether the sampling is done with replacement or not. Second is the sample size as a fraction. Finally we can optionally provide a random seed."
   ]
  },
  {
   "cell_type": "code",
   "execution_count": null,
   "metadata": {
    "collapsed": true
   },
   "outputs": [],
   "source": [
    "sample = rdd.sample(False, 0.001, 1234)\n",
    "sample.setName(\"sample\").cache()\n",
    "sample.count()"
   ]
  },
  {
   "cell_type": "code",
   "execution_count": null,
   "metadata": {
    "collapsed": true
   },
   "outputs": [],
   "source": [
    "type(sample)"
   ]
  },
  {
   "cell_type": "markdown",
   "metadata": {},
   "source": [
    "### The takeSample Action\n",
    "\n",
    "If what we need is to grab a sample of raw data from our RDD into local memory in order to be used by other non-Spark libraries, takeSample can be used.\n",
    "\n",
    "The syntax is very similar, but in this case we specify the number of items instead of the sample size as a fraction of the complete data size."
   ]
  },
  {
   "cell_type": "code",
   "execution_count": null,
   "metadata": {
    "collapsed": true
   },
   "outputs": [],
   "source": [
    "df = spark.createDataFrame(rdd)\n",
    "take_sample = df.rdd.takeSample(False, 1000, seed=0)\n",
    "type(take_sample)"
   ]
  },
  {
   "cell_type": "markdown",
   "metadata": {},
   "source": [
    "### Take first 10 rows"
   ]
  },
  {
   "cell_type": "code",
   "execution_count": null,
   "metadata": {
    "collapsed": true
   },
   "outputs": [],
   "source": [
    "subset = sc.parallelize(rdd.take(1000), 100)\n",
    "subset.count()"
   ]
  },
  {
   "cell_type": "code",
   "execution_count": null,
   "metadata": {
    "collapsed": true
   },
   "outputs": [],
   "source": [
    "df = spark.createDataFrame(subset).toPandas()"
   ]
  },
  {
   "cell_type": "markdown",
   "metadata": {},
   "source": [
    "### Load as a Spark Dataframe"
   ]
  },
  {
   "cell_type": "code",
   "execution_count": null,
   "metadata": {},
   "outputs": [],
   "source": [
    "df = spark.read.csv(link, header=True)\n",
    "df.take(1000)"
   ]
  },
  {
   "cell_type": "code",
   "execution_count": 4,
   "metadata": {},
   "outputs": [
    {
     "data": {
      "text/plain": [
       "pyspark.sql.dataframe.DataFrame"
      ]
     },
     "execution_count": 4,
     "metadata": {},
     "output_type": "execute_result"
    }
   ],
   "source": [
    "type(df)"
   ]
  },
  {
   "cell_type": "code",
   "execution_count": 5,
   "metadata": {},
   "outputs": [
    {
     "data": {
      "text/plain": [
       "(5315800, 329)"
      ]
     },
     "execution_count": 5,
     "metadata": {},
     "output_type": "execute_result"
    }
   ],
   "source": [
    "df.count(), len(df.columns)"
   ]
  },
  {
   "cell_type": "code",
   "execution_count": 7,
   "metadata": {},
   "outputs": [
    {
     "data": {
      "text/plain": [
       "[Row(NPI='1679576722'),\n",
       " Row(NPI='1588667638'),\n",
       " Row(NPI='1497758544'),\n",
       " Row(NPI='1306849450'),\n",
       " Row(NPI='1215930367')]"
      ]
     },
     "execution_count": 7,
     "metadata": {},
     "output_type": "execute_result"
    }
   ],
   "source": [
    "df.select('NPI').head(5)"
   ]
  },
  {
   "cell_type": "code",
   "execution_count": 6,
   "metadata": {},
   "outputs": [
    {
     "data": {
      "text/plain": [
       "['NPI',\n",
       " 'Entity Type Code',\n",
       " 'Replacement NPI',\n",
       " 'Employer Identification Number (EIN)',\n",
       " 'Provider Organization Name (Legal Business Name)',\n",
       " 'Provider Last Name (Legal Name)',\n",
       " 'Provider First Name',\n",
       " 'Provider Middle Name',\n",
       " 'Provider Name Prefix Text',\n",
       " 'Provider Name Suffix Text',\n",
       " 'Provider Credential Text',\n",
       " 'Provider Other Organization Name',\n",
       " 'Provider Other Organization Name Type Code',\n",
       " 'Provider Other Last Name',\n",
       " 'Provider Other First Name',\n",
       " 'Provider Other Middle Name',\n",
       " 'Provider Other Name Prefix Text',\n",
       " 'Provider Other Name Suffix Text',\n",
       " 'Provider Other Credential Text',\n",
       " 'Provider Other Last Name Type Code',\n",
       " 'Provider First Line Business Mailing Address',\n",
       " 'Provider Second Line Business Mailing Address',\n",
       " 'Provider Business Mailing Address City Name',\n",
       " 'Provider Business Mailing Address State Name',\n",
       " 'Provider Business Mailing Address Postal Code',\n",
       " 'Provider Business Mailing Address Country Code (If outside U.S.)',\n",
       " 'Provider Business Mailing Address Telephone Number',\n",
       " 'Provider Business Mailing Address Fax Number',\n",
       " 'Provider First Line Business Practice Location Address',\n",
       " 'Provider Second Line Business Practice Location Address',\n",
       " 'Provider Business Practice Location Address City Name',\n",
       " 'Provider Business Practice Location Address State Name',\n",
       " 'Provider Business Practice Location Address Postal Code',\n",
       " 'Provider Business Practice Location Address Country Code (If outside U.S.)',\n",
       " 'Provider Business Practice Location Address Telephone Number',\n",
       " 'Provider Business Practice Location Address Fax Number',\n",
       " 'Provider Enumeration Date',\n",
       " 'Last Update Date',\n",
       " 'NPI Deactivation Reason Code',\n",
       " 'NPI Deactivation Date',\n",
       " 'NPI Reactivation Date',\n",
       " 'Provider Gender Code',\n",
       " 'Authorized Official Last Name',\n",
       " 'Authorized Official First Name',\n",
       " 'Authorized Official Middle Name',\n",
       " 'Authorized Official Title or Position',\n",
       " 'Authorized Official Telephone Number',\n",
       " 'Healthcare Provider Taxonomy Code_1',\n",
       " 'Provider License Number_1',\n",
       " 'Provider License Number State Code_1',\n",
       " 'Healthcare Provider Primary Taxonomy Switch_1',\n",
       " 'Healthcare Provider Taxonomy Code_2',\n",
       " 'Provider License Number_2',\n",
       " 'Provider License Number State Code_2',\n",
       " 'Healthcare Provider Primary Taxonomy Switch_2',\n",
       " 'Healthcare Provider Taxonomy Code_3',\n",
       " 'Provider License Number_3',\n",
       " 'Provider License Number State Code_3',\n",
       " 'Healthcare Provider Primary Taxonomy Switch_3',\n",
       " 'Healthcare Provider Taxonomy Code_4',\n",
       " 'Provider License Number_4',\n",
       " 'Provider License Number State Code_4',\n",
       " 'Healthcare Provider Primary Taxonomy Switch_4',\n",
       " 'Healthcare Provider Taxonomy Code_5',\n",
       " 'Provider License Number_5',\n",
       " 'Provider License Number State Code_5',\n",
       " 'Healthcare Provider Primary Taxonomy Switch_5',\n",
       " 'Healthcare Provider Taxonomy Code_6',\n",
       " 'Provider License Number_6',\n",
       " 'Provider License Number State Code_6',\n",
       " 'Healthcare Provider Primary Taxonomy Switch_6',\n",
       " 'Healthcare Provider Taxonomy Code_7',\n",
       " 'Provider License Number_7',\n",
       " 'Provider License Number State Code_7',\n",
       " 'Healthcare Provider Primary Taxonomy Switch_7',\n",
       " 'Healthcare Provider Taxonomy Code_8',\n",
       " 'Provider License Number_8',\n",
       " 'Provider License Number State Code_8',\n",
       " 'Healthcare Provider Primary Taxonomy Switch_8',\n",
       " 'Healthcare Provider Taxonomy Code_9',\n",
       " 'Provider License Number_9',\n",
       " 'Provider License Number State Code_9',\n",
       " 'Healthcare Provider Primary Taxonomy Switch_9',\n",
       " 'Healthcare Provider Taxonomy Code_10',\n",
       " 'Provider License Number_10',\n",
       " 'Provider License Number State Code_10',\n",
       " 'Healthcare Provider Primary Taxonomy Switch_10',\n",
       " 'Healthcare Provider Taxonomy Code_11',\n",
       " 'Provider License Number_11',\n",
       " 'Provider License Number State Code_11',\n",
       " 'Healthcare Provider Primary Taxonomy Switch_11',\n",
       " 'Healthcare Provider Taxonomy Code_12',\n",
       " 'Provider License Number_12',\n",
       " 'Provider License Number State Code_12',\n",
       " 'Healthcare Provider Primary Taxonomy Switch_12',\n",
       " 'Healthcare Provider Taxonomy Code_13',\n",
       " 'Provider License Number_13',\n",
       " 'Provider License Number State Code_13',\n",
       " 'Healthcare Provider Primary Taxonomy Switch_13',\n",
       " 'Healthcare Provider Taxonomy Code_14',\n",
       " 'Provider License Number_14',\n",
       " 'Provider License Number State Code_14',\n",
       " 'Healthcare Provider Primary Taxonomy Switch_14',\n",
       " 'Healthcare Provider Taxonomy Code_15',\n",
       " 'Provider License Number_15',\n",
       " 'Provider License Number State Code_15',\n",
       " 'Healthcare Provider Primary Taxonomy Switch_15',\n",
       " 'Other Provider Identifier_1',\n",
       " 'Other Provider Identifier Type Code_1',\n",
       " 'Other Provider Identifier State_1',\n",
       " 'Other Provider Identifier Issuer_1',\n",
       " 'Other Provider Identifier_2',\n",
       " 'Other Provider Identifier Type Code_2',\n",
       " 'Other Provider Identifier State_2',\n",
       " 'Other Provider Identifier Issuer_2',\n",
       " 'Other Provider Identifier_3',\n",
       " 'Other Provider Identifier Type Code_3',\n",
       " 'Other Provider Identifier State_3',\n",
       " 'Other Provider Identifier Issuer_3',\n",
       " 'Other Provider Identifier_4',\n",
       " 'Other Provider Identifier Type Code_4',\n",
       " 'Other Provider Identifier State_4',\n",
       " 'Other Provider Identifier Issuer_4',\n",
       " 'Other Provider Identifier_5',\n",
       " 'Other Provider Identifier Type Code_5',\n",
       " 'Other Provider Identifier State_5',\n",
       " 'Other Provider Identifier Issuer_5',\n",
       " 'Other Provider Identifier_6',\n",
       " 'Other Provider Identifier Type Code_6',\n",
       " 'Other Provider Identifier State_6',\n",
       " 'Other Provider Identifier Issuer_6',\n",
       " 'Other Provider Identifier_7',\n",
       " 'Other Provider Identifier Type Code_7',\n",
       " 'Other Provider Identifier State_7',\n",
       " 'Other Provider Identifier Issuer_7',\n",
       " 'Other Provider Identifier_8',\n",
       " 'Other Provider Identifier Type Code_8',\n",
       " 'Other Provider Identifier State_8',\n",
       " 'Other Provider Identifier Issuer_8',\n",
       " 'Other Provider Identifier_9',\n",
       " 'Other Provider Identifier Type Code_9',\n",
       " 'Other Provider Identifier State_9',\n",
       " 'Other Provider Identifier Issuer_9',\n",
       " 'Other Provider Identifier_10',\n",
       " 'Other Provider Identifier Type Code_10',\n",
       " 'Other Provider Identifier State_10',\n",
       " 'Other Provider Identifier Issuer_10',\n",
       " 'Other Provider Identifier_11',\n",
       " 'Other Provider Identifier Type Code_11',\n",
       " 'Other Provider Identifier State_11',\n",
       " 'Other Provider Identifier Issuer_11',\n",
       " 'Other Provider Identifier_12',\n",
       " 'Other Provider Identifier Type Code_12',\n",
       " 'Other Provider Identifier State_12',\n",
       " 'Other Provider Identifier Issuer_12',\n",
       " 'Other Provider Identifier_13',\n",
       " 'Other Provider Identifier Type Code_13',\n",
       " 'Other Provider Identifier State_13',\n",
       " 'Other Provider Identifier Issuer_13',\n",
       " 'Other Provider Identifier_14',\n",
       " 'Other Provider Identifier Type Code_14',\n",
       " 'Other Provider Identifier State_14',\n",
       " 'Other Provider Identifier Issuer_14',\n",
       " 'Other Provider Identifier_15',\n",
       " 'Other Provider Identifier Type Code_15',\n",
       " 'Other Provider Identifier State_15',\n",
       " 'Other Provider Identifier Issuer_15',\n",
       " 'Other Provider Identifier_16',\n",
       " 'Other Provider Identifier Type Code_16',\n",
       " 'Other Provider Identifier State_16',\n",
       " 'Other Provider Identifier Issuer_16',\n",
       " 'Other Provider Identifier_17',\n",
       " 'Other Provider Identifier Type Code_17',\n",
       " 'Other Provider Identifier State_17',\n",
       " 'Other Provider Identifier Issuer_17',\n",
       " 'Other Provider Identifier_18',\n",
       " 'Other Provider Identifier Type Code_18',\n",
       " 'Other Provider Identifier State_18',\n",
       " 'Other Provider Identifier Issuer_18',\n",
       " 'Other Provider Identifier_19',\n",
       " 'Other Provider Identifier Type Code_19',\n",
       " 'Other Provider Identifier State_19',\n",
       " 'Other Provider Identifier Issuer_19',\n",
       " 'Other Provider Identifier_20',\n",
       " 'Other Provider Identifier Type Code_20',\n",
       " 'Other Provider Identifier State_20',\n",
       " 'Other Provider Identifier Issuer_20',\n",
       " 'Other Provider Identifier_21',\n",
       " 'Other Provider Identifier Type Code_21',\n",
       " 'Other Provider Identifier State_21',\n",
       " 'Other Provider Identifier Issuer_21',\n",
       " 'Other Provider Identifier_22',\n",
       " 'Other Provider Identifier Type Code_22',\n",
       " 'Other Provider Identifier State_22',\n",
       " 'Other Provider Identifier Issuer_22',\n",
       " 'Other Provider Identifier_23',\n",
       " 'Other Provider Identifier Type Code_23',\n",
       " 'Other Provider Identifier State_23',\n",
       " 'Other Provider Identifier Issuer_23',\n",
       " 'Other Provider Identifier_24',\n",
       " 'Other Provider Identifier Type Code_24',\n",
       " 'Other Provider Identifier State_24',\n",
       " 'Other Provider Identifier Issuer_24',\n",
       " 'Other Provider Identifier_25',\n",
       " 'Other Provider Identifier Type Code_25',\n",
       " 'Other Provider Identifier State_25',\n",
       " 'Other Provider Identifier Issuer_25',\n",
       " 'Other Provider Identifier_26',\n",
       " 'Other Provider Identifier Type Code_26',\n",
       " 'Other Provider Identifier State_26',\n",
       " 'Other Provider Identifier Issuer_26',\n",
       " 'Other Provider Identifier_27',\n",
       " 'Other Provider Identifier Type Code_27',\n",
       " 'Other Provider Identifier State_27',\n",
       " 'Other Provider Identifier Issuer_27',\n",
       " 'Other Provider Identifier_28',\n",
       " 'Other Provider Identifier Type Code_28',\n",
       " 'Other Provider Identifier State_28',\n",
       " 'Other Provider Identifier Issuer_28',\n",
       " 'Other Provider Identifier_29',\n",
       " 'Other Provider Identifier Type Code_29',\n",
       " 'Other Provider Identifier State_29',\n",
       " 'Other Provider Identifier Issuer_29',\n",
       " 'Other Provider Identifier_30',\n",
       " 'Other Provider Identifier Type Code_30',\n",
       " 'Other Provider Identifier State_30',\n",
       " 'Other Provider Identifier Issuer_30',\n",
       " 'Other Provider Identifier_31',\n",
       " 'Other Provider Identifier Type Code_31',\n",
       " 'Other Provider Identifier State_31',\n",
       " 'Other Provider Identifier Issuer_31',\n",
       " 'Other Provider Identifier_32',\n",
       " 'Other Provider Identifier Type Code_32',\n",
       " 'Other Provider Identifier State_32',\n",
       " 'Other Provider Identifier Issuer_32',\n",
       " 'Other Provider Identifier_33',\n",
       " 'Other Provider Identifier Type Code_33',\n",
       " 'Other Provider Identifier State_33',\n",
       " 'Other Provider Identifier Issuer_33',\n",
       " 'Other Provider Identifier_34',\n",
       " 'Other Provider Identifier Type Code_34',\n",
       " 'Other Provider Identifier State_34',\n",
       " 'Other Provider Identifier Issuer_34',\n",
       " 'Other Provider Identifier_35',\n",
       " 'Other Provider Identifier Type Code_35',\n",
       " 'Other Provider Identifier State_35',\n",
       " 'Other Provider Identifier Issuer_35',\n",
       " 'Other Provider Identifier_36',\n",
       " 'Other Provider Identifier Type Code_36',\n",
       " 'Other Provider Identifier State_36',\n",
       " 'Other Provider Identifier Issuer_36',\n",
       " 'Other Provider Identifier_37',\n",
       " 'Other Provider Identifier Type Code_37',\n",
       " 'Other Provider Identifier State_37',\n",
       " 'Other Provider Identifier Issuer_37',\n",
       " 'Other Provider Identifier_38',\n",
       " 'Other Provider Identifier Type Code_38',\n",
       " 'Other Provider Identifier State_38',\n",
       " 'Other Provider Identifier Issuer_38',\n",
       " 'Other Provider Identifier_39',\n",
       " 'Other Provider Identifier Type Code_39',\n",
       " 'Other Provider Identifier State_39',\n",
       " 'Other Provider Identifier Issuer_39',\n",
       " 'Other Provider Identifier_40',\n",
       " 'Other Provider Identifier Type Code_40',\n",
       " 'Other Provider Identifier State_40',\n",
       " 'Other Provider Identifier Issuer_40',\n",
       " 'Other Provider Identifier_41',\n",
       " 'Other Provider Identifier Type Code_41',\n",
       " 'Other Provider Identifier State_41',\n",
       " 'Other Provider Identifier Issuer_41',\n",
       " 'Other Provider Identifier_42',\n",
       " 'Other Provider Identifier Type Code_42',\n",
       " 'Other Provider Identifier State_42',\n",
       " 'Other Provider Identifier Issuer_42',\n",
       " 'Other Provider Identifier_43',\n",
       " 'Other Provider Identifier Type Code_43',\n",
       " 'Other Provider Identifier State_43',\n",
       " 'Other Provider Identifier Issuer_43',\n",
       " 'Other Provider Identifier_44',\n",
       " 'Other Provider Identifier Type Code_44',\n",
       " 'Other Provider Identifier State_44',\n",
       " 'Other Provider Identifier Issuer_44',\n",
       " 'Other Provider Identifier_45',\n",
       " 'Other Provider Identifier Type Code_45',\n",
       " 'Other Provider Identifier State_45',\n",
       " 'Other Provider Identifier Issuer_45',\n",
       " 'Other Provider Identifier_46',\n",
       " 'Other Provider Identifier Type Code_46',\n",
       " 'Other Provider Identifier State_46',\n",
       " 'Other Provider Identifier Issuer_46',\n",
       " 'Other Provider Identifier_47',\n",
       " 'Other Provider Identifier Type Code_47',\n",
       " 'Other Provider Identifier State_47',\n",
       " 'Other Provider Identifier Issuer_47',\n",
       " 'Other Provider Identifier_48',\n",
       " 'Other Provider Identifier Type Code_48',\n",
       " 'Other Provider Identifier State_48',\n",
       " 'Other Provider Identifier Issuer_48',\n",
       " 'Other Provider Identifier_49',\n",
       " 'Other Provider Identifier Type Code_49',\n",
       " 'Other Provider Identifier State_49',\n",
       " 'Other Provider Identifier Issuer_49',\n",
       " 'Other Provider Identifier_50',\n",
       " 'Other Provider Identifier Type Code_50',\n",
       " 'Other Provider Identifier State_50',\n",
       " 'Other Provider Identifier Issuer_50',\n",
       " 'Is Sole Proprietor',\n",
       " 'Is Organization Subpart',\n",
       " 'Parent Organization LBN',\n",
       " 'Parent Organization TIN',\n",
       " 'Authorized Official Name Prefix Text',\n",
       " 'Authorized Official Name Suffix Text',\n",
       " 'Authorized Official Credential Text',\n",
       " 'Healthcare Provider Taxonomy Group_1',\n",
       " 'Healthcare Provider Taxonomy Group_2',\n",
       " 'Healthcare Provider Taxonomy Group_3',\n",
       " 'Healthcare Provider Taxonomy Group_4',\n",
       " 'Healthcare Provider Taxonomy Group_5',\n",
       " 'Healthcare Provider Taxonomy Group_6',\n",
       " 'Healthcare Provider Taxonomy Group_7',\n",
       " 'Healthcare Provider Taxonomy Group_8',\n",
       " 'Healthcare Provider Taxonomy Group_9',\n",
       " 'Healthcare Provider Taxonomy Group_10',\n",
       " 'Healthcare Provider Taxonomy Group_11',\n",
       " 'Healthcare Provider Taxonomy Group_12',\n",
       " 'Healthcare Provider Taxonomy Group_13',\n",
       " 'Healthcare Provider Taxonomy Group_14',\n",
       " 'Healthcare Provider Taxonomy Group_15']"
      ]
     },
     "execution_count": 6,
     "metadata": {},
     "output_type": "execute_result"
    }
   ],
   "source": [
    "df.columns"
   ]
  },
  {
   "cell_type": "code",
   "execution_count": null,
   "metadata": {
    "collapsed": true
   },
   "outputs": [],
   "source": [
    "pdf = df.toPandas()"
   ]
  },
  {
   "cell_type": "code",
   "execution_count": 11,
   "metadata": {
    "collapsed": true
   },
   "outputs": [],
   "source": [
    "import pandas as pd"
   ]
  },
  {
   "cell_type": "code",
   "execution_count": null,
   "metadata": {
    "collapsed": true
   },
   "outputs": [],
   "source": []
  }
 ],
 "metadata": {
  "anaconda-cloud": {},
  "kernelspec": {
   "display_name": "Python 3",
   "language": "python",
   "name": "python3"
  },
  "language_info": {
   "codemirror_mode": {
    "name": "ipython",
    "version": 3
   },
   "file_extension": ".py",
   "mimetype": "text/x-python",
   "name": "python",
   "nbconvert_exporter": "python",
   "pygments_lexer": "ipython3",
   "version": "3.6.2"
  }
 },
 "nbformat": 4,
 "nbformat_minor": 1
}
