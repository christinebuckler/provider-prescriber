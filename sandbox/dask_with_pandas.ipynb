{
 "cells": [
  {
   "cell_type": "code",
   "execution_count": 14,
   "metadata": {
    "collapsed": true
   },
   "outputs": [],
   "source": [
    "import pandas as pd\n",
    "import dask.dataframe as dd\n",
    "from dask.dataframe.utils import make_meta\n",
    "from dask.multiprocessing import get"
   ]
  },
  {
   "cell_type": "code",
   "execution_count": 2,
   "metadata": {
    "collapsed": true
   },
   "outputs": [],
   "source": [
    "import matplotlib.pyplot as plt\n",
    "import matplotlib as mpl\n",
    "from mpl_toolkits.axes_grid.anchored_artists import AnchoredText\n",
    "mpl.rcParams.update({\n",
    "    'font.size'           : 16.0,\n",
    "    'axes.titlesize'      : 'large',\n",
    "    'axes.labelsize'      : 'medium',\n",
    "    'xtick.labelsize'     : 'small',\n",
    "    'ytick.labelsize'     : 'small',\n",
    "    'legend.fontsize'     : 'small',})\n",
    "get_ipython().magic('matplotlib inline')"
   ]
  },
  {
   "cell_type": "code",
   "execution_count": null,
   "metadata": {
    "collapsed": true
   },
   "outputs": [],
   "source": [
    "# df = pd.read_pickle('df_active.pkl')\n",
    "# print(df.shape)\n",
    "# df.tail()"
   ]
  },
  {
   "cell_type": "code",
   "execution_count": null,
   "metadata": {
    "collapsed": true
   },
   "outputs": [],
   "source": [
    "# ddf = dd.from_pandas(df, chunksize=5000)\n",
    "# col_df = pd.DataFrame(pd.Series(ddf.columns).isin(cols))\n",
    "# col_df[col_df[0]==True].index"
   ]
  },
  {
   "cell_type": "code",
   "execution_count": null,
   "metadata": {
    "collapsed": true
   },
   "outputs": [],
   "source": []
  },
  {
   "cell_type": "code",
   "execution_count": 3,
   "metadata": {
    "collapsed": true
   },
   "outputs": [],
   "source": [
    "cols = [  0,   1,  10,  23,  39,  40,  41,  47,  50,  51,  54,  55,  58,\n",
    "             59,  62,  63,  66,  67,  70,  71,  74,  75,  78,  79,  82,  83,\n",
    "             86,  87,  90,  91,  94,  95,  98,  99, 102, 103, 106, 307, 308]"
   ]
  },
  {
   "cell_type": "code",
   "execution_count": 4,
   "metadata": {
    "collapsed": true
   },
   "outputs": [],
   "source": [
    "raw = dd.read_csv(\"s3://gschoolcapstone/npidata_20050523-20170813.csv\", usecols=cols, dtype='object')"
   ]
  },
  {
   "cell_type": "code",
   "execution_count": 5,
   "metadata": {},
   "outputs": [
    {
     "data": {
      "text/html": [
       "<div>\n",
       "<style>\n",
       "    .dataframe thead tr:only-child th {\n",
       "        text-align: right;\n",
       "    }\n",
       "\n",
       "    .dataframe thead th {\n",
       "        text-align: left;\n",
       "    }\n",
       "\n",
       "    .dataframe tbody tr th {\n",
       "        vertical-align: top;\n",
       "    }\n",
       "</style>\n",
       "<table border=\"1\" class=\"dataframe\">\n",
       "  <thead>\n",
       "    <tr style=\"text-align: right;\">\n",
       "      <th></th>\n",
       "      <th>NPI</th>\n",
       "      <th>Entity Type Code</th>\n",
       "      <th>Provider Credential Text</th>\n",
       "      <th>Provider Business Mailing Address State Name</th>\n",
       "      <th>NPI Deactivation Date</th>\n",
       "      <th>NPI Reactivation Date</th>\n",
       "      <th>Provider Gender Code</th>\n",
       "      <th>Healthcare Provider Taxonomy Code_1</th>\n",
       "      <th>Healthcare Provider Primary Taxonomy Switch_1</th>\n",
       "      <th>Healthcare Provider Taxonomy Code_2</th>\n",
       "      <th>...</th>\n",
       "      <th>Healthcare Provider Taxonomy Code_12</th>\n",
       "      <th>Healthcare Provider Primary Taxonomy Switch_12</th>\n",
       "      <th>Healthcare Provider Taxonomy Code_13</th>\n",
       "      <th>Healthcare Provider Primary Taxonomy Switch_13</th>\n",
       "      <th>Healthcare Provider Taxonomy Code_14</th>\n",
       "      <th>Healthcare Provider Primary Taxonomy Switch_14</th>\n",
       "      <th>Healthcare Provider Taxonomy Code_15</th>\n",
       "      <th>Healthcare Provider Primary Taxonomy Switch_15</th>\n",
       "      <th>Is Sole Proprietor</th>\n",
       "      <th>Is Organization Subpart</th>\n",
       "    </tr>\n",
       "  </thead>\n",
       "  <tbody>\n",
       "    <tr>\n",
       "      <th>0</th>\n",
       "      <td>1679576722</td>\n",
       "      <td>1</td>\n",
       "      <td>M.D.</td>\n",
       "      <td>NE</td>\n",
       "      <td>NaN</td>\n",
       "      <td>NaN</td>\n",
       "      <td>M</td>\n",
       "      <td>207X00000X</td>\n",
       "      <td>Y</td>\n",
       "      <td>NaN</td>\n",
       "      <td>...</td>\n",
       "      <td>NaN</td>\n",
       "      <td>NaN</td>\n",
       "      <td>NaN</td>\n",
       "      <td>NaN</td>\n",
       "      <td>NaN</td>\n",
       "      <td>NaN</td>\n",
       "      <td>NaN</td>\n",
       "      <td>NaN</td>\n",
       "      <td>X</td>\n",
       "      <td>NaN</td>\n",
       "    </tr>\n",
       "    <tr>\n",
       "      <th>1</th>\n",
       "      <td>1588667638</td>\n",
       "      <td>1</td>\n",
       "      <td>MD</td>\n",
       "      <td>FL</td>\n",
       "      <td>NaN</td>\n",
       "      <td>NaN</td>\n",
       "      <td>M</td>\n",
       "      <td>207RC0000X</td>\n",
       "      <td>Y</td>\n",
       "      <td>207RC0000X</td>\n",
       "      <td>...</td>\n",
       "      <td>NaN</td>\n",
       "      <td>NaN</td>\n",
       "      <td>NaN</td>\n",
       "      <td>NaN</td>\n",
       "      <td>NaN</td>\n",
       "      <td>NaN</td>\n",
       "      <td>NaN</td>\n",
       "      <td>NaN</td>\n",
       "      <td>N</td>\n",
       "      <td>NaN</td>\n",
       "    </tr>\n",
       "    <tr>\n",
       "      <th>2</th>\n",
       "      <td>1497758544</td>\n",
       "      <td>2</td>\n",
       "      <td>NaN</td>\n",
       "      <td>NC</td>\n",
       "      <td>NaN</td>\n",
       "      <td>NaN</td>\n",
       "      <td>NaN</td>\n",
       "      <td>251G00000X</td>\n",
       "      <td>Y</td>\n",
       "      <td>NaN</td>\n",
       "      <td>...</td>\n",
       "      <td>NaN</td>\n",
       "      <td>NaN</td>\n",
       "      <td>NaN</td>\n",
       "      <td>NaN</td>\n",
       "      <td>NaN</td>\n",
       "      <td>NaN</td>\n",
       "      <td>NaN</td>\n",
       "      <td>NaN</td>\n",
       "      <td>NaN</td>\n",
       "      <td>N</td>\n",
       "    </tr>\n",
       "    <tr>\n",
       "      <th>3</th>\n",
       "      <td>1306849450</td>\n",
       "      <td>1</td>\n",
       "      <td>M.D.</td>\n",
       "      <td>TX</td>\n",
       "      <td>NaN</td>\n",
       "      <td>NaN</td>\n",
       "      <td>M</td>\n",
       "      <td>2085R0202X</td>\n",
       "      <td>Y</td>\n",
       "      <td>NaN</td>\n",
       "      <td>...</td>\n",
       "      <td>NaN</td>\n",
       "      <td>NaN</td>\n",
       "      <td>NaN</td>\n",
       "      <td>NaN</td>\n",
       "      <td>NaN</td>\n",
       "      <td>NaN</td>\n",
       "      <td>NaN</td>\n",
       "      <td>NaN</td>\n",
       "      <td>N</td>\n",
       "      <td>NaN</td>\n",
       "    </tr>\n",
       "    <tr>\n",
       "      <th>4</th>\n",
       "      <td>1215930367</td>\n",
       "      <td>1</td>\n",
       "      <td>M.D.</td>\n",
       "      <td>TX</td>\n",
       "      <td>NaN</td>\n",
       "      <td>NaN</td>\n",
       "      <td>M</td>\n",
       "      <td>174400000X</td>\n",
       "      <td>N</td>\n",
       "      <td>207RH0003X</td>\n",
       "      <td>...</td>\n",
       "      <td>NaN</td>\n",
       "      <td>NaN</td>\n",
       "      <td>NaN</td>\n",
       "      <td>NaN</td>\n",
       "      <td>NaN</td>\n",
       "      <td>NaN</td>\n",
       "      <td>NaN</td>\n",
       "      <td>NaN</td>\n",
       "      <td>N</td>\n",
       "      <td>NaN</td>\n",
       "    </tr>\n",
       "  </tbody>\n",
       "</table>\n",
       "<p>5 rows × 39 columns</p>\n",
       "</div>"
      ],
      "text/plain": [
       "          NPI Entity Type Code Provider Credential Text  \\\n",
       "0  1679576722                1                     M.D.   \n",
       "1  1588667638                1                       MD   \n",
       "2  1497758544                2                      NaN   \n",
       "3  1306849450                1                     M.D.   \n",
       "4  1215930367                1                     M.D.   \n",
       "\n",
       "  Provider Business Mailing Address State Name NPI Deactivation Date  \\\n",
       "0                                           NE                   NaN   \n",
       "1                                           FL                   NaN   \n",
       "2                                           NC                   NaN   \n",
       "3                                           TX                   NaN   \n",
       "4                                           TX                   NaN   \n",
       "\n",
       "  NPI Reactivation Date Provider Gender Code  \\\n",
       "0                   NaN                    M   \n",
       "1                   NaN                    M   \n",
       "2                   NaN                  NaN   \n",
       "3                   NaN                    M   \n",
       "4                   NaN                    M   \n",
       "\n",
       "  Healthcare Provider Taxonomy Code_1  \\\n",
       "0                          207X00000X   \n",
       "1                          207RC0000X   \n",
       "2                          251G00000X   \n",
       "3                          2085R0202X   \n",
       "4                          174400000X   \n",
       "\n",
       "  Healthcare Provider Primary Taxonomy Switch_1  \\\n",
       "0                                             Y   \n",
       "1                                             Y   \n",
       "2                                             Y   \n",
       "3                                             Y   \n",
       "4                                             N   \n",
       "\n",
       "  Healthcare Provider Taxonomy Code_2           ...            \\\n",
       "0                                 NaN           ...             \n",
       "1                          207RC0000X           ...             \n",
       "2                                 NaN           ...             \n",
       "3                                 NaN           ...             \n",
       "4                          207RH0003X           ...             \n",
       "\n",
       "  Healthcare Provider Taxonomy Code_12  \\\n",
       "0                                  NaN   \n",
       "1                                  NaN   \n",
       "2                                  NaN   \n",
       "3                                  NaN   \n",
       "4                                  NaN   \n",
       "\n",
       "  Healthcare Provider Primary Taxonomy Switch_12  \\\n",
       "0                                            NaN   \n",
       "1                                            NaN   \n",
       "2                                            NaN   \n",
       "3                                            NaN   \n",
       "4                                            NaN   \n",
       "\n",
       "  Healthcare Provider Taxonomy Code_13  \\\n",
       "0                                  NaN   \n",
       "1                                  NaN   \n",
       "2                                  NaN   \n",
       "3                                  NaN   \n",
       "4                                  NaN   \n",
       "\n",
       "  Healthcare Provider Primary Taxonomy Switch_13  \\\n",
       "0                                            NaN   \n",
       "1                                            NaN   \n",
       "2                                            NaN   \n",
       "3                                            NaN   \n",
       "4                                            NaN   \n",
       "\n",
       "  Healthcare Provider Taxonomy Code_14  \\\n",
       "0                                  NaN   \n",
       "1                                  NaN   \n",
       "2                                  NaN   \n",
       "3                                  NaN   \n",
       "4                                  NaN   \n",
       "\n",
       "  Healthcare Provider Primary Taxonomy Switch_14  \\\n",
       "0                                            NaN   \n",
       "1                                            NaN   \n",
       "2                                            NaN   \n",
       "3                                            NaN   \n",
       "4                                            NaN   \n",
       "\n",
       "  Healthcare Provider Taxonomy Code_15  \\\n",
       "0                                  NaN   \n",
       "1                                  NaN   \n",
       "2                                  NaN   \n",
       "3                                  NaN   \n",
       "4                                  NaN   \n",
       "\n",
       "  Healthcare Provider Primary Taxonomy Switch_15 Is Sole Proprietor  \\\n",
       "0                                            NaN                  X   \n",
       "1                                            NaN                  N   \n",
       "2                                            NaN                NaN   \n",
       "3                                            NaN                  N   \n",
       "4                                            NaN                  N   \n",
       "\n",
       "  Is Organization Subpart  \n",
       "0                     NaN  \n",
       "1                     NaN  \n",
       "2                       N  \n",
       "3                     NaN  \n",
       "4                     NaN  \n",
       "\n",
       "[5 rows x 39 columns]"
      ]
     },
     "execution_count": 5,
     "metadata": {},
     "output_type": "execute_result"
    }
   ],
   "source": [
    "raw.head()"
   ]
  },
  {
   "cell_type": "code",
   "execution_count": 15,
   "metadata": {
    "collapsed": true
   },
   "outputs": [],
   "source": [
    "active = raw['Entity Type Code'].notnull()\n",
    "df = raw[active].reset_index()"
   ]
  },
  {
   "cell_type": "code",
   "execution_count": null,
   "metadata": {
    "collapsed": true
   },
   "outputs": [],
   "source": []
  },
  {
   "cell_type": "code",
   "execution_count": null,
   "metadata": {
    "collapsed": true
   },
   "outputs": [],
   "source": []
  },
  {
   "cell_type": "code",
   "execution_count": null,
   "metadata": {
    "collapsed": true
   },
   "outputs": [],
   "source": []
  },
  {
   "cell_type": "code",
   "execution_count": 16,
   "metadata": {
    "collapsed": true
   },
   "outputs": [],
   "source": [
    "code_df = pd.read_csv('s3n://gschoolcapstone/nucc_taxonomy_171.csv')\n",
    "code_cols = [col for col in df.columns if col.startswith('Healthcare Provider Taxonomy Code_')]"
   ]
  },
  {
   "cell_type": "code",
   "execution_count": 20,
   "metadata": {
    "collapsed": true
   },
   "outputs": [],
   "source": [
    "def get_prim_col_name(row):\n",
    "    b = (row == 'Y')\n",
    "    n = b.argmax()[44:]\n",
    "    col = \"Healthcare Provider Taxonomy Code_\"+n\n",
    "    return df[col][row.name]"
   ]
  },
  {
   "cell_type": "code",
   "execution_count": null,
   "metadata": {
    "collapsed": true
   },
   "outputs": [],
   "source": [
    "df['Primary Tax Code'] = df[[col for col in df.columns \\\n",
    "                             if col.startswith('Healthcare Provider Primary ')]]\\\n",
    "                             .apply(get_prim_col_name, axis=1)\n",
    "\n",
    "# df['Primary Tax Code Cat'] = df['Primary Tax Code'].astype('category', categories=code_df.Code, ordered=False)\n",
    "# df['Primary Tax Code Cat'] = df['Primary Tax Code Cat'].cat.codes"
   ]
  },
  {
   "cell_type": "code",
   "execution_count": null,
   "metadata": {
    "collapsed": true
   },
   "outputs": [],
   "source": []
  },
  {
   "cell_type": "code",
   "execution_count": null,
   "metadata": {
    "collapsed": true
   },
   "outputs": [],
   "source": []
  },
  {
   "cell_type": "code",
   "execution_count": null,
   "metadata": {
    "collapsed": true
   },
   "outputs": [],
   "source": [
    "HPPcols = [col for col in df.columns if col.startswith('Healthcare Provider Primary ')]\n",
    "df.map_partitions(get_prim_col_name, columns=HPPcols).compute(get=get)"
   ]
  },
  {
   "cell_type": "code",
   "execution_count": null,
   "metadata": {
    "collapsed": true
   },
   "outputs": [],
   "source": []
  },
  {
   "cell_type": "code",
   "execution_count": null,
   "metadata": {
    "collapsed": true
   },
   "outputs": [],
   "source": []
  },
  {
   "cell_type": "code",
   "execution_count": null,
   "metadata": {
    "collapsed": true
   },
   "outputs": [],
   "source": []
  },
  {
   "cell_type": "code",
   "execution_count": null,
   "metadata": {
    "collapsed": true
   },
   "outputs": [],
   "source": []
  },
  {
   "cell_type": "code",
   "execution_count": null,
   "metadata": {
    "collapsed": true
   },
   "outputs": [],
   "source": []
  },
  {
   "cell_type": "code",
   "execution_count": null,
   "metadata": {
    "collapsed": true
   },
   "outputs": [],
   "source": []
  },
  {
   "cell_type": "code",
   "execution_count": null,
   "metadata": {
    "collapsed": true
   },
   "outputs": [],
   "source": []
  },
  {
   "cell_type": "code",
   "execution_count": null,
   "metadata": {
    "collapsed": true
   },
   "outputs": [],
   "source": []
  },
  {
   "cell_type": "code",
   "execution_count": null,
   "metadata": {
    "collapsed": true
   },
   "outputs": [],
   "source": []
  }
 ],
 "metadata": {
  "kernelspec": {
   "display_name": "Python 3",
   "language": "python",
   "name": "python3"
  },
  "language_info": {
   "codemirror_mode": {
    "name": "ipython",
    "version": 3
   },
   "file_extension": ".py",
   "mimetype": "text/x-python",
   "name": "python",
   "nbconvert_exporter": "python",
   "pygments_lexer": "ipython3",
   "version": "3.6.2"
  }
 },
 "nbformat": 4,
 "nbformat_minor": 2
}
