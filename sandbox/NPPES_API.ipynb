{
 "cells": [
  {
   "cell_type": "code",
   "execution_count": null,
   "metadata": {
    "collapsed": true
   },
   "outputs": [],
   "source": []
  },
  {
   "cell_type": "markdown",
   "metadata": {},
   "source": [
    "### Load JSON from API  \n",
    "https://npiregistry.cms.hhs.gov/registry/help-api  \n",
    "https://npiregistry.cms.hhs.gov/api/demo"
   ]
  },
  {
   "cell_type": "code",
   "execution_count": null,
   "metadata": {
    "collapsed": true
   },
   "outputs": [],
   "source": [
    "# r = requests.get(url='https://hacker-news.firebaseio.com/v0/topstories.json?print=pretty')\n",
    "# print(r.json())"
   ]
  },
  {
   "cell_type": "code",
   "execution_count": null,
   "metadata": {
    "collapsed": true
   },
   "outputs": [],
   "source": [
    "# r = requests.get(url='https://npiregistry.cms.hhs.gov/api/')"
   ]
  },
  {
   "cell_type": "code",
   "execution_count": null,
   "metadata": {
    "collapsed": true
   },
   "outputs": [],
   "source": [
    "ex = 'https://npiregistry.cms.hhs.gov/api/?number=&enumeration_type=&taxonomy_description=&first_name=Melinda& \\\n",
    "last_name=Sharkey&organization_name=&address_purpose=&city=&state=CO&postal_code=&country_code=&limit=&skip=&pretty=on'\n",
    "r = requests.get(url = ex)\n",
    "drS = r.json()\n",
    "\n",
    "num_results = drS['result_count']\n",
    "print(num_results, '\\n')\n",
    "\n",
    "for key in drS['results'][0].keys():\n",
    "    print(key, drS['results'][0][key], '\\n')\n",
    "    \n",
    "# The first address in the array will always be the Practice Location \n",
    "# and the second address in the array will always be the Mailing Address.\n",
    "drS['results'][0]['addresses'][0]"
   ]
  },
  {
   "cell_type": "markdown",
   "metadata": {},
   "source": [
    "### Load JSON from API in Spark"
   ]
  },
  {
   "cell_type": "code",
   "execution_count": null,
   "metadata": {
    "collapsed": true
   },
   "outputs": [],
   "source": [
    "import json\n",
    "import requests\n",
    "# r = requests.get(\"http://192.168.0.13:9200/sample.json\")\n",
    "# df = sqlContext.createDataFrame([json.loads(line) for line in r.iter_lines()])"
   ]
  },
  {
   "cell_type": "code",
   "execution_count": null,
   "metadata": {
    "collapsed": true
   },
   "outputs": [],
   "source": []
  }
 ],
 "metadata": {
  "kernelspec": {
   "display_name": "Python 3",
   "language": "python",
   "name": "python3"
  },
  "language_info": {
   "codemirror_mode": {
    "name": "ipython",
    "version": 3
   },
   "file_extension": ".py",
   "mimetype": "text/x-python",
   "name": "python",
   "nbconvert_exporter": "python",
   "pygments_lexer": "ipython3",
   "version": "3.6.2"
  }
 },
 "nbformat": 4,
 "nbformat_minor": 2
}
