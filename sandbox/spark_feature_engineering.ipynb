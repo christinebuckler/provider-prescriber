{
 "cells": [
  {
   "cell_type": "code",
   "execution_count": 3,
   "metadata": {
    "collapsed": true
   },
   "outputs": [],
   "source": [
    "import re, time\n",
    "import pandas as pd\n",
    "import pyspark as ps\n",
    "from pyspark.sql.types import StructType, StructField, IntegerType, StringType, FloatType, ArrayType, DoubleType\n",
    "from pyspark.sql.functions import *\n",
    "from pyspark.ml.linalg import Vectors\n",
    "from pyspark.ml.feature import StringIndexer, OneHotEncoder, VectorAssembler, MinHashLSH, BucketedRandomProjectionLSH\n",
    "from pyspark.ml import Pipeline\n",
    "from pyspark.mllib.linalg.distributed import RowMatrix"
   ]
  },
  {
   "cell_type": "code",
   "execution_count": 5,
   "metadata": {},
   "outputs": [],
   "source": [
    "spark = ps.sql.SparkSession.builder \\\n",
    "            .appName(\"capstone\") \\\n",
    "            .master(\"local[8]\") \\\n",
    "            .getOrCreate()\n",
    "#             .config('spark.driver.extraClassPath','postgresql-9.1-901-1.jdbc4.jar') \\\n",
    "            \n",
    "\n",
    "sc = spark.sparkContext  # for the pre-2.0 sparkContext"
   ]
  },
  {
   "cell_type": "code",
   "execution_count": 6,
   "metadata": {},
   "outputs": [
    {
     "data": {
      "text/plain": [
       "(<SparkContext master=local[4] appName=PySparkShell>,\n",
       " <pyspark.sql.context.SQLContext at 0x1149080b8>)"
      ]
     },
     "execution_count": 6,
     "metadata": {},
     "output_type": "execute_result"
    }
   ],
   "source": [
    "#Check: Spark Context for RDDS and SQL Context for Dataframes\n",
    "sc, sqlCtx"
   ]
  },
  {
   "cell_type": "code",
   "execution_count": 14,
   "metadata": {
    "collapsed": true
   },
   "outputs": [],
   "source": [
    "# link = 's3n://gschoolcapstone/npidata_20050523-20170813.csv'\n",
    "link = '../data/npidata_20050523-20170813.csv'\n",
    "df = spark.read.csv(link, header=True, inferSchema=True).limit(10)"
   ]
  },
  {
   "cell_type": "code",
   "execution_count": 17,
   "metadata": {
    "collapsed": true
   },
   "outputs": [],
   "source": [
    "df.write.csv('subset')"
   ]
  },
  {
   "cell_type": "code",
   "execution_count": 16,
   "metadata": {},
   "outputs": [
    {
     "data": {
      "text/html": [
       "<div>\n",
       "<style>\n",
       "    .dataframe thead tr:only-child th {\n",
       "        text-align: right;\n",
       "    }\n",
       "\n",
       "    .dataframe thead th {\n",
       "        text-align: left;\n",
       "    }\n",
       "\n",
       "    .dataframe tbody tr th {\n",
       "        vertical-align: top;\n",
       "    }\n",
       "</style>\n",
       "<table border=\"1\" class=\"dataframe\">\n",
       "  <thead>\n",
       "    <tr style=\"text-align: right;\">\n",
       "      <th></th>\n",
       "      <th>NPI</th>\n",
       "      <th>Entity Type Code</th>\n",
       "      <th>Replacement NPI</th>\n",
       "      <th>Employer Identification Number (EIN)</th>\n",
       "      <th>Provider Organization Name (Legal Business Name)</th>\n",
       "      <th>Provider Last Name (Legal Name)</th>\n",
       "      <th>Provider First Name</th>\n",
       "      <th>Provider Middle Name</th>\n",
       "      <th>Provider Name Prefix Text</th>\n",
       "      <th>Provider Name Suffix Text</th>\n",
       "      <th>...</th>\n",
       "      <th>Healthcare Provider Taxonomy Group_6</th>\n",
       "      <th>Healthcare Provider Taxonomy Group_7</th>\n",
       "      <th>Healthcare Provider Taxonomy Group_8</th>\n",
       "      <th>Healthcare Provider Taxonomy Group_9</th>\n",
       "      <th>Healthcare Provider Taxonomy Group_10</th>\n",
       "      <th>Healthcare Provider Taxonomy Group_11</th>\n",
       "      <th>Healthcare Provider Taxonomy Group_12</th>\n",
       "      <th>Healthcare Provider Taxonomy Group_13</th>\n",
       "      <th>Healthcare Provider Taxonomy Group_14</th>\n",
       "      <th>Healthcare Provider Taxonomy Group_15</th>\n",
       "    </tr>\n",
       "  </thead>\n",
       "  <tbody>\n",
       "    <tr>\n",
       "      <th>0</th>\n",
       "      <td>1679576722</td>\n",
       "      <td>1</td>\n",
       "      <td>None</td>\n",
       "      <td>None</td>\n",
       "      <td>None</td>\n",
       "      <td>WIEBE</td>\n",
       "      <td>DAVID</td>\n",
       "      <td>A</td>\n",
       "      <td>None</td>\n",
       "      <td>None</td>\n",
       "      <td>...</td>\n",
       "      <td>None</td>\n",
       "      <td>None</td>\n",
       "      <td>None</td>\n",
       "      <td>None</td>\n",
       "      <td>None</td>\n",
       "      <td>None</td>\n",
       "      <td>None</td>\n",
       "      <td>None</td>\n",
       "      <td>None</td>\n",
       "      <td>None</td>\n",
       "    </tr>\n",
       "    <tr>\n",
       "      <th>1</th>\n",
       "      <td>1588667638</td>\n",
       "      <td>1</td>\n",
       "      <td>None</td>\n",
       "      <td>None</td>\n",
       "      <td>None</td>\n",
       "      <td>PILCHER</td>\n",
       "      <td>WILLIAM</td>\n",
       "      <td>C</td>\n",
       "      <td>DR.</td>\n",
       "      <td>None</td>\n",
       "      <td>...</td>\n",
       "      <td>None</td>\n",
       "      <td>None</td>\n",
       "      <td>None</td>\n",
       "      <td>None</td>\n",
       "      <td>None</td>\n",
       "      <td>None</td>\n",
       "      <td>None</td>\n",
       "      <td>None</td>\n",
       "      <td>None</td>\n",
       "      <td>None</td>\n",
       "    </tr>\n",
       "    <tr>\n",
       "      <th>2</th>\n",
       "      <td>1497758544</td>\n",
       "      <td>2</td>\n",
       "      <td>None</td>\n",
       "      <td>&lt;UNAVAIL&gt;</td>\n",
       "      <td>CUMBERLAND COUNTY HOSPITAL SYSTEM, INC</td>\n",
       "      <td>None</td>\n",
       "      <td>None</td>\n",
       "      <td>None</td>\n",
       "      <td>None</td>\n",
       "      <td>None</td>\n",
       "      <td>...</td>\n",
       "      <td>None</td>\n",
       "      <td>None</td>\n",
       "      <td>None</td>\n",
       "      <td>None</td>\n",
       "      <td>None</td>\n",
       "      <td>None</td>\n",
       "      <td>None</td>\n",
       "      <td>None</td>\n",
       "      <td>None</td>\n",
       "      <td>None</td>\n",
       "    </tr>\n",
       "    <tr>\n",
       "      <th>3</th>\n",
       "      <td>1306849450</td>\n",
       "      <td>1</td>\n",
       "      <td>None</td>\n",
       "      <td>None</td>\n",
       "      <td>None</td>\n",
       "      <td>SMITSON</td>\n",
       "      <td>HAROLD</td>\n",
       "      <td>LEROY</td>\n",
       "      <td>DR.</td>\n",
       "      <td>II</td>\n",
       "      <td>...</td>\n",
       "      <td>None</td>\n",
       "      <td>None</td>\n",
       "      <td>None</td>\n",
       "      <td>None</td>\n",
       "      <td>None</td>\n",
       "      <td>None</td>\n",
       "      <td>None</td>\n",
       "      <td>None</td>\n",
       "      <td>None</td>\n",
       "      <td>None</td>\n",
       "    </tr>\n",
       "    <tr>\n",
       "      <th>4</th>\n",
       "      <td>1215930367</td>\n",
       "      <td>1</td>\n",
       "      <td>None</td>\n",
       "      <td>None</td>\n",
       "      <td>None</td>\n",
       "      <td>GRESSOT</td>\n",
       "      <td>LAURENT</td>\n",
       "      <td>None</td>\n",
       "      <td>DR.</td>\n",
       "      <td>None</td>\n",
       "      <td>...</td>\n",
       "      <td>None</td>\n",
       "      <td>None</td>\n",
       "      <td>None</td>\n",
       "      <td>None</td>\n",
       "      <td>None</td>\n",
       "      <td>None</td>\n",
       "      <td>None</td>\n",
       "      <td>None</td>\n",
       "      <td>None</td>\n",
       "      <td>None</td>\n",
       "    </tr>\n",
       "  </tbody>\n",
       "</table>\n",
       "<p>5 rows × 329 columns</p>\n",
       "</div>"
      ],
      "text/plain": [
       "          NPI  Entity Type Code Replacement NPI  \\\n",
       "0  1679576722                 1            None   \n",
       "1  1588667638                 1            None   \n",
       "2  1497758544                 2            None   \n",
       "3  1306849450                 1            None   \n",
       "4  1215930367                 1            None   \n",
       "\n",
       "  Employer Identification Number (EIN)  \\\n",
       "0                                 None   \n",
       "1                                 None   \n",
       "2                            <UNAVAIL>   \n",
       "3                                 None   \n",
       "4                                 None   \n",
       "\n",
       "  Provider Organization Name (Legal Business Name)  \\\n",
       "0                                             None   \n",
       "1                                             None   \n",
       "2           CUMBERLAND COUNTY HOSPITAL SYSTEM, INC   \n",
       "3                                             None   \n",
       "4                                             None   \n",
       "\n",
       "  Provider Last Name (Legal Name) Provider First Name Provider Middle Name  \\\n",
       "0                           WIEBE               DAVID                    A   \n",
       "1                         PILCHER             WILLIAM                    C   \n",
       "2                            None                None                 None   \n",
       "3                         SMITSON              HAROLD                LEROY   \n",
       "4                         GRESSOT             LAURENT                 None   \n",
       "\n",
       "  Provider Name Prefix Text Provider Name Suffix Text  \\\n",
       "0                      None                      None   \n",
       "1                       DR.                      None   \n",
       "2                      None                      None   \n",
       "3                       DR.                        II   \n",
       "4                       DR.                      None   \n",
       "\n",
       "                   ...                  Healthcare Provider Taxonomy Group_6  \\\n",
       "0                  ...                                                  None   \n",
       "1                  ...                                                  None   \n",
       "2                  ...                                                  None   \n",
       "3                  ...                                                  None   \n",
       "4                  ...                                                  None   \n",
       "\n",
       "  Healthcare Provider Taxonomy Group_7  Healthcare Provider Taxonomy Group_8  \\\n",
       "0                                 None                                  None   \n",
       "1                                 None                                  None   \n",
       "2                                 None                                  None   \n",
       "3                                 None                                  None   \n",
       "4                                 None                                  None   \n",
       "\n",
       "  Healthcare Provider Taxonomy Group_9 Healthcare Provider Taxonomy Group_10  \\\n",
       "0                                 None                                  None   \n",
       "1                                 None                                  None   \n",
       "2                                 None                                  None   \n",
       "3                                 None                                  None   \n",
       "4                                 None                                  None   \n",
       "\n",
       "  Healthcare Provider Taxonomy Group_11 Healthcare Provider Taxonomy Group_12  \\\n",
       "0                                  None                                  None   \n",
       "1                                  None                                  None   \n",
       "2                                  None                                  None   \n",
       "3                                  None                                  None   \n",
       "4                                  None                                  None   \n",
       "\n",
       "  Healthcare Provider Taxonomy Group_13 Healthcare Provider Taxonomy Group_14  \\\n",
       "0                                  None                                  None   \n",
       "1                                  None                                  None   \n",
       "2                                  None                                  None   \n",
       "3                                  None                                  None   \n",
       "4                                  None                                  None   \n",
       "\n",
       "  Healthcare Provider Taxonomy Group_15  \n",
       "0                                  None  \n",
       "1                                  None  \n",
       "2                                  None  \n",
       "3                                  None  \n",
       "4                                  None  \n",
       "\n",
       "[5 rows x 329 columns]"
      ]
     },
     "execution_count": 16,
     "metadata": {},
     "output_type": "execute_result"
    }
   ],
   "source": [
    "df.limit(5).toPandas()"
   ]
  },
  {
   "cell_type": "code",
   "execution_count": 18,
   "metadata": {
    "collapsed": true
   },
   "outputs": [],
   "source": [
    "# Rename columns in proper format\n",
    "cols = df.columns\n",
    "new_cols = [col.replace('(', '').replace(')', '').replace('.', '').replace(' ', '_') for col in cols]\n",
    "for old, new in zip(cols, new_cols):\n",
    "    df = df.withColumnRenamed(old, new)"
   ]
  },
  {
   "cell_type": "code",
   "execution_count": null,
   "metadata": {},
   "outputs": [],
   "source": [
    "# df.columns"
   ]
  },
  {
   "cell_type": "code",
   "execution_count": 23,
   "metadata": {
    "collapsed": true
   },
   "outputs": [],
   "source": [
    "# Filter where NPIs are active\n",
    "df = df.filter(df.Entity_Type_Code.isNotNull())"
   ]
  },
  {
   "cell_type": "code",
   "execution_count": 28,
   "metadata": {
    "collapsed": true
   },
   "outputs": [],
   "source": [
    "# Provider_Gender_Code: M, F, null, GUTHMILLER\n",
    "# df.select('Provider_Gender_Code').filter(\"Provider_Gender_Code == 'GUTHMILLER'\").show()\n",
    "df = df.withColumn('Gender', regexp_replace(df.Provider_Gender_Code, 'GUTHMILLER', 'X'))"
   ]
  },
  {
   "cell_type": "code",
   "execution_count": null,
   "metadata": {},
   "outputs": [],
   "source": [
    "df.createOrReplaceTempView(\"npi\")\n",
    "spark.sql('SELECT Gender FROM npi GROUP BY Gender').show()"
   ]
  },
  {
   "cell_type": "code",
   "execution_count": null,
   "metadata": {
    "collapsed": true
   },
   "outputs": [],
   "source": [
    "# Fill na values\n",
    "na_dict = {'Gender': 'X', \n",
    "           'Is_Sole_Proprietor': 'X', \n",
    "           'Is_Organization_Subpart': 'X',\n",
    "           'Provider_Credential_Text': 'X'}\n",
    "#            'Healthcare_Provider_Taxonomy_Code_1': 'NA',\n",
    "#            'Healthcare_Provider_Taxonomy_Code_2': 'NA',\n",
    "#            'Healthcare_Provider_Taxonomy_Code_3': 'NA',\n",
    "#            'Healthcare_Provider_Taxonomy_Code_4': 'NA',\n",
    "#            'Healthcare_Provider_Taxonomy_Code_5': 'NA',\n",
    "#            'Healthcare_Provider_Taxonomy_Code_6': 'NA',\n",
    "#            'Healthcare_Provider_Taxonomy_Code_7': 'NA',\n",
    "#            'Healthcare_Provider_Taxonomy_Code_8': 'NA',\n",
    "#            'Healthcare_Provider_Taxonomy_Code_9': 'NA',\n",
    "#            'Healthcare_Provider_Taxonomy_Code_10': 'NA',\n",
    "#            'Healthcare_Provider_Taxonomy_Code_11': 'NA',\n",
    "#            'Healthcare_Provider_Taxonomy_Code_12': 'NA',\n",
    "#            'Healthcare_Provider_Taxonomy_Code_13': 'NA',\n",
    "#            'Healthcare_Provider_Taxonomy_Code_14': 'NA',\n",
    "#            'Healthcare_Provider_Taxonomy_Code_15': 'NA', \n",
    "df = df.na.fill(na_dict)"
   ]
  },
  {
   "cell_type": "code",
   "execution_count": null,
   "metadata": {
    "collapsed": true
   },
   "outputs": [],
   "source": [
    "def formatting(x):\n",
    "    x = x.upper()\n",
    "    x = re.sub(re.compile('\\.|\\>|\\`'), '', x)\n",
    "    x = re.sub(re.compile('\\,|\\;|\\-|\\(|\\)|\\/'), ' ', x)\n",
    "    x = re.sub(re.compile('\\s+'), ' ', x)\n",
    "#     x = x.replace('M D', 'MD')\n",
    "    x = re.sub(\"M D\", \"MD\", x)\n",
    "    x = re.sub(\"D C\", \"DC\", x)\n",
    "    x = re.sub(\"P C\", \"PC\", x)\n",
    "    x = re.sub(\"D P M\", \"DPM\", x)\n",
    "    x = re.sub(\"D O\", \"DO\", x)\n",
    "    x = re.sub(\"O D\", \"OD\", x)\n",
    "    x = re.sub(\"0D\", \"OD\", x)\n",
    "    x = re.sub(\"PHARMD\", \"RPH \", x)\n",
    "    x = re.sub(\"PHYSICIAN ASSISTANT\", \"PA\", x)\n",
    "    x = re.sub(\"NURSE PRACTITIONER\", \"NP\", x)\n",
    "    x = re.sub(\"PHYSICAL THERAPIST\", \"PT\", x)\n",
    "    x = re.sub(\"(BS IN PHARMACY|BS PHARMACY|DOCTOR OF PHARMACY|PHARMACIST|PHARMD)\", \" RPH \", x)\n",
    "    x = re.sub(\"[\\d]\", \"\", x) # remove numbers\n",
    "    x = x.strip()\n",
    "    return x\n",
    "\n",
    "format_udf = udf(formatting, StringType())\n",
    "# print(formatting('hey. this is john. . . .'))"
   ]
  },
  {
   "cell_type": "code",
   "execution_count": null,
   "metadata": {
    "collapsed": true
   },
   "outputs": [],
   "source": [
    "# df = df.withColumn('test', format_udf(col('Provider_Credential_Text')))\n",
    "# df.show(5)\n",
    "# test = df.withColumn('new', regexp_replace(df.Provider_Credential_Text, '\\.', ''))\n",
    "# test.select('Provider_Credential_Text','new').show(10)\n",
    "\n",
    "df = df.withColumn('Credentials', format_udf(df.Provider_Credential_Text))\n",
    "# df.select('Provider_Credential_Text', 'Credentials').show(5)"
   ]
  },
  {
   "cell_type": "code",
   "execution_count": null,
   "metadata": {
    "collapsed": true
   },
   "outputs": [],
   "source": [
    "df.select('Gender','Is_Sole_Proprietor','Is_Organization_Subpart','Credentials').show(5)"
   ]
  },
  {
   "cell_type": "code",
   "execution_count": null,
   "metadata": {
    "collapsed": true
   },
   "outputs": [],
   "source": []
  },
  {
   "cell_type": "code",
   "execution_count": null,
   "metadata": {
    "collapsed": true
   },
   "outputs": [],
   "source": []
  },
  {
   "cell_type": "markdown",
   "metadata": {
    "collapsed": true
   },
   "source": [
    "### Spark pipeline to get feature vector"
   ]
  },
  {
   "cell_type": "code",
   "execution_count": null,
   "metadata": {
    "collapsed": true
   },
   "outputs": [],
   "source": [
    "stages, feature_cols = [], []"
   ]
  },
  {
   "cell_type": "code",
   "execution_count": null,
   "metadata": {
    "collapsed": true
   },
   "outputs": [],
   "source": [
    "for col in my_cols:\n",
    "    stages.append(StringIndexer(inputCol=col, outputCol=col+'_idx', handleInvalid='error'))\n",
    "    stages.append(OneHotEncoder(dropLast=True, inputCol=col+'_idx', outputCol=col+'_ohe'))\n",
    "    feature_cols.append(col+'_ohe')\n",
    "stages.append(VectorAssembler(inputCols=feature_cols, outputCol='features'))"
   ]
  },
  {
   "cell_type": "code",
   "execution_count": null,
   "metadata": {
    "collapsed": true
   },
   "outputs": [],
   "source": [
    "# df = df.drop('Provider_Gender_Code_idx')\n",
    "# df = df.drop('Provider_Gender_Code_ohe')"
   ]
  },
  {
   "cell_type": "code",
   "execution_count": null,
   "metadata": {
    "collapsed": true
   },
   "outputs": [],
   "source": [
    "col = 'Provider_Gender_Code'\n",
    "stridx = StringIndexer(inputCol=col, outputCol=col+'_idx', handleInvalid='error')"
   ]
  },
  {
   "cell_type": "code",
   "execution_count": null,
   "metadata": {
    "collapsed": true
   },
   "outputs": [],
   "source": [
    "# model = stridx.fit(df)\n",
    "# df = model.transform(df)\n",
    "# {i: label for i, label in enumerate(model.labels)}"
   ]
  },
  {
   "cell_type": "code",
   "execution_count": null,
   "metadata": {
    "collapsed": true
   },
   "outputs": [],
   "source": [
    "# df.select('Gender').show()"
   ]
  },
  {
   "cell_type": "code",
   "execution_count": null,
   "metadata": {
    "collapsed": true
   },
   "outputs": [],
   "source": [
    "# df.columns"
   ]
  },
  {
   "cell_type": "code",
   "execution_count": null,
   "metadata": {
    "collapsed": true
   },
   "outputs": [],
   "source": [
    "ohe = OneHotEncoder(dropLast=True, inputCol=col+'_idx', outputCol=col+'_ohe')"
   ]
  },
  {
   "cell_type": "code",
   "execution_count": null,
   "metadata": {
    "collapsed": true
   },
   "outputs": [],
   "source": [
    "# df = ohe.transform(df)"
   ]
  },
  {
   "cell_type": "code",
   "execution_count": null,
   "metadata": {
    "collapsed": true
   },
   "outputs": [],
   "source": [
    "# df.columns"
   ]
  },
  {
   "cell_type": "code",
   "execution_count": null,
   "metadata": {
    "collapsed": true
   },
   "outputs": [],
   "source": [
    "# df.select('Gender').show()\n",
    "# df.select('Gender_').show()"
   ]
  },
  {
   "cell_type": "code",
   "execution_count": null,
   "metadata": {
    "collapsed": true
   },
   "outputs": [],
   "source": [
    "features = [col+'_ohe']\n",
    "va = VectorAssembler(inputCols=features, outputCol='features')"
   ]
  },
  {
   "cell_type": "markdown",
   "metadata": {
    "collapsed": true
   },
   "source": [
    "https://spark.apache.org/docs/1.6.1/ml-guide.html#example-pipeline"
   ]
  },
  {
   "cell_type": "code",
   "execution_count": null,
   "metadata": {
    "collapsed": true
   },
   "outputs": [],
   "source": [
    "pipeline = Pipeline(stages = [stridx, ohe, va])\n",
    "model = pipeline.fit(df)\n",
    "df = model.transform(df)"
   ]
  },
  {
   "cell_type": "code",
   "execution_count": null,
   "metadata": {
    "collapsed": true
   },
   "outputs": [],
   "source": [
    "df.select('NPI', 'features').show(5)"
   ]
  },
  {
   "cell_type": "code",
   "execution_count": null,
   "metadata": {
    "collapsed": true
   },
   "outputs": [],
   "source": [
    "# cache processed dataframe/model\n",
    "df.persist() \n",
    "# df.persist(pyspark.StorageLevel.MEMORY_AND_DISK)\n",
    "# df.unpersist()"
   ]
  },
  {
   "cell_type": "code",
   "execution_count": null,
   "metadata": {
    "collapsed": true
   },
   "outputs": [],
   "source": []
  }
 ],
 "metadata": {
  "anaconda-cloud": {},
  "kernelspec": {
   "display_name": "Python 3",
   "language": "python",
   "name": "python3"
  }
 },
 "nbformat": 4,
 "nbformat_minor": 1
}
